from tkinter import *
from tkinter import ttk, colorchooser

class main:
	def __init__(self, master):
        self.master=master
        self.color_fg='black'
        self.color_bg='white'
        self.old_x=None
        self.old_y=None
        self.penwidth=5
        self.drawWidgets()
        self.c.bind('<B1-Motion>'.self.paint)
        self.color_bg